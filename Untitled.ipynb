{
 "cells": [
  {
   "cell_type": "code",
   "execution_count": 3,
   "id": "77b7b08c-2be1-47a0-aa86-7de482453645",
   "metadata": {},
   "outputs": [
    {
     "name": "stdout",
     "output_type": "stream",
     "text": [
      "Requirement already satisfied: PyPDF2 in d:\\anaconda\\lib\\site-packages (3.0.1)\n"
     ]
    }
   ],
   "source": [
    "!pip install PyPDF2"
   ]
  },
  {
   "cell_type": "code",
   "execution_count": 11,
   "id": "3d8669ba-26a7-400a-aa4f-b24a91b363bc",
   "metadata": {},
   "outputs": [
    {
     "name": "stdout",
     "output_type": "stream",
     "text": [
      "Merged PDF saved as merged.pdf\n"
     ]
    }
   ],
   "source": [
    "import PyPDF2\n",
    "\n",
    "def merge_pdfs(pdf_list,output_path):\n",
    "    pdf_writer =PyPDF2.PdfWriter()\n",
    "    for pdf in pdf_list:\n",
    "        pdf_reader=PyPDF2.PdfReader(pdf)\n",
    "        for page_num in range(len(pdf_reader.pages)):\n",
    "            pdf_writer.add_page(pdf_reader.pages[page_num])\n",
    "    with open(output_path,'wb') as out:\n",
    "        pdf_writer.write(out)\n",
    "    print(f\"Merged PDF saved as {output_path}\")\n",
    "merge_pdfs(['Page+1.pdf','Page+2.pdf','Page+3.pdf','Page+4.pdf'],'merged.pdf')"
   ]
  },
  {
   "cell_type": "code",
   "execution_count": null,
   "id": "7b449cfe-6cb8-4b6c-ae4a-ae98326d5c3d",
   "metadata": {},
   "outputs": [],
   "source": []
  }
 ],
 "metadata": {
  "kernelspec": {
   "display_name": "Python [conda env:base] *",
   "language": "python",
   "name": "conda-base-py"
  },
  "language_info": {
   "codemirror_mode": {
    "name": "ipython",
    "version": 3
   },
   "file_extension": ".py",
   "mimetype": "text/x-python",
   "name": "python",
   "nbconvert_exporter": "python",
   "pygments_lexer": "ipython3",
   "version": "3.12.7"
  }
 },
 "nbformat": 4,
 "nbformat_minor": 5
}
