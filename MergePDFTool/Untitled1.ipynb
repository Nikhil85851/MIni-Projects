{
 "cells": [
  {
   "cell_type": "code",
   "execution_count": null,
   "id": "1c39ba43-6d5f-4039-ad2d-2b7bc82a7098",
   "metadata": {},
   "outputs": [],
   "source": []
  }
 ],
 "metadata": {
  "kernelspec": {
   "display_name": "",
   "name": ""
  },
  "language_info": {
   "name": ""
  }
 },
 "nbformat": 4,
 "nbformat_minor": 5
}
